{
 "cells": [
  {
   "cell_type": "code",
   "execution_count": null,
   "id": "52f21142",
   "metadata": {},
   "outputs": [],
   "source": [
    "%cd ../../../"
   ]
  },
  {
   "cell_type": "code",
   "execution_count": 2,
   "id": "8b4ec70a",
   "metadata": {},
   "outputs": [],
   "source": [
    "import os\n",
    "import numpy as np\n",
    "import pickle\n",
    "\n",
    "import smart_settings\n",
    "\n",
    "from mbrl.environments import env_from_string"
   ]
  },
  {
   "cell_type": "code",
   "execution_count": null,
   "id": "566bb1ad",
   "metadata": {},
   "outputs": [],
   "source": [
    "# Needed for the recording only if LD_PRELOAD is not unset!\n",
    "from mujoco_py import GlfwContext\n",
    "GlfwContext(offscreen=True)"
   ]
  },
  {
   "cell_type": "code",
   "execution_count": 3,
   "id": "cf1fb952",
   "metadata": {},
   "outputs": [],
   "source": [
    "import imageio\n",
    "\n",
    "def setup_video(output_path, name_suffix, name_prefix, fps):\n",
    "    os.makedirs(output_path, exist_ok=True)\n",
    "    file_path = os.path.join(output_path, f\"{name_prefix}rollout{name_suffix}.mp4\")\n",
    "    i = 0\n",
    "    while os.path.isfile(file_path):\n",
    "        i += 1\n",
    "        file_path = os.path.join(output_path, f\"{name_prefix}rollout{name_suffix}_{i}.mp4\")\n",
    "    print(\"Record video in {}\".format(file_path))\n",
    "    return (\n",
    "        imageio.get_writer(file_path, fps=fps, codec=\"h264\", quality=10, pixelformat=\"yuv420p\"), #yuv420p, yuvj422p\n",
    "        file_path,\n",
    "    )\n"
   ]
  },
  {
   "cell_type": "code",
   "execution_count": 99,
   "id": "067a6053",
   "metadata": {},
   "outputs": [],
   "source": [
    "env_name = \"construction\" # construction or \"playground\""
   ]
  },
  {
   "cell_type": "code",
   "execution_count": 100,
   "id": "5225acf9",
   "metadata": {},
   "outputs": [],
   "source": [
    "video_dir = \"\"\n",
    "output_path = os.path.join(video_dir, \"video\")"
   ]
  },
  {
   "cell_type": "markdown",
   "id": "d245cc5a",
   "metadata": {},
   "source": [
    "## Choose if to replay free play data"
   ]
  },
  {
   "cell_type": "code",
   "execution_count": 101,
   "id": "48972483",
   "metadata": {},
   "outputs": [],
   "source": [
    "working_dir = f'results/cee_us/{env_name}/gnn_ensemble_cee_us_freeplay'\n",
    "\n",
    "# Specify which training iteration of cee-us to replay\n",
    "iteration = 50\n",
    "mode = \"free_play\""
   ]
  },
  {
   "cell_type": "markdown",
   "id": "e2855c3a",
   "metadata": {},
   "source": [
    "## or rollouts from zero-shot downstream task generalization"
   ]
  },
  {
   "cell_type": "code",
   "execution_count": 103,
   "id": "035451a7",
   "metadata": {},
   "outputs": [
    {
     "name": "stdout",
     "output_type": "stream",
     "text": [
      "Current mode:  construction_flip\n"
     ]
    }
   ],
   "source": [
    "task = \"flip\"    \n",
    "# [stack, throw, pp, flip] for construction\n",
    "# e.g. push4, push6 etc. for playground\n",
    "\n",
    "working_dir = f'results/cee_us/zero_shot/{env_name}_{task}/gnn_ensemble_icem'\n",
    "\n",
    "# For downstream tasks there is only 1 iteration of rollout collection\n",
    "iteration = 0\n",
    "mode = f\"{env_name}_{task}\"\n",
    "\n",
    "print(\"Current mode: \", mode)"
   ]
  },
  {
   "cell_type": "markdown",
   "id": "f98bca87",
   "metadata": {},
   "source": [
    "## Read settings file and initialize the corresponding environment"
   ]
  },
  {
   "cell_type": "code",
   "execution_count": 104,
   "id": "1187b4d9",
   "metadata": {},
   "outputs": [],
   "source": [
    "params = smart_settings.load(os.path.join(working_dir, 'settings.json'), make_immutable=False)\n",
    "env = env_from_string(params.env, **params[\"env_params\"])"
   ]
  },
  {
   "cell_type": "code",
   "execution_count": 106,
   "id": "1264c70d",
   "metadata": {},
   "outputs": [
    {
     "data": {
      "text/plain": [
       "4"
      ]
     },
     "execution_count": 106,
     "metadata": {},
     "output_type": "execute_result"
    }
   ],
   "source": [
    "env.nObj"
   ]
  },
  {
   "cell_type": "markdown",
   "id": "7ed605d6",
   "metadata": {},
   "source": [
    "## Load rollout buffer"
   ]
  },
  {
   "cell_type": "code",
   "execution_count": 107,
   "id": "1abfa80e",
   "metadata": {
    "scrolled": true
   },
   "outputs": [
    {
     "name": "stdout",
     "output_type": "stream",
     "text": [
      "Buffer contains 100 rollouts, each with length 500\n"
     ]
    }
   ],
   "source": [
    "with open(os.path.join(working_dir, 'checkpoints_latest/rollouts'), 'rb') as f:\n",
    "    buffer = pickle.load(f)\n",
    "    \n",
    "print(\"Buffer contains {} rollouts, each with length {}\".format(len(buffer), buffer[0][\"observations\"].shape[0]))"
   ]
  },
  {
   "cell_type": "markdown",
   "id": "453bbd5a",
   "metadata": {},
   "source": [
    "## Record video"
   ]
  },
  {
   "cell_type": "code",
   "execution_count": null,
   "id": "41039a16",
   "metadata": {
    "scrolled": true
   },
   "outputs": [],
   "source": [
    "video, video_path = setup_video(output_path, f'_{mode}_iter{iteration}', \"\", env.get_fps())\n",
    "\n",
    "ep_length = buffer[0][\"observations\"].shape[0]\n",
    "\n",
    "render_width = 768\n",
    "render_height = 512\n",
    "\n",
    "ep_id = iteration * params.number_of_rollouts \n",
    "for i in range(ep_id, min(ep_id + params.number_of_rollouts, len(buffer))):\n",
    "    obs = env.reset()\n",
    "    for t in range(ep_length):\n",
    "        if env.name == \"PlaygroundwGoals\":\n",
    "            env.set_state_from_observation(buffer[i][\"observations\"][t, :])\n",
    "        else:\n",
    "            # Robotics environments require setting the whole env state for replay!\n",
    "            env.set_GT_state(buffer[i][\"env_states\"][t, :])\n",
    "        frame = env.render(\"rgb_array\", render_width, render_height)\n",
    "        video.append_data(frame)\n",
    "        if env.name == \"FetchPickAndPlaceConstruction\":\n",
    "            del env.viewer._markers[:]\n",
    "\n",
    "video.close()"
   ]
  },
  {
   "cell_type": "markdown",
   "id": "c7e075db",
   "metadata": {},
   "source": [
    "# Render rollouts with openglw"
   ]
  },
  {
   "cell_type": "markdown",
   "id": "24f9ecf6",
   "metadata": {},
   "source": [
    "You need to set the following variable to render: \n",
    "```bash\n",
    "export LD_PRELOAD=/usr/lib/x86_64-linux-gnu/libGLEW.so\n",
    "```"
   ]
  },
  {
   "cell_type": "code",
   "execution_count": null,
   "id": "b50661f1",
   "metadata": {
    "scrolled": true
   },
   "outputs": [],
   "source": [
    "ep_id = iteration * params.number_of_rollouts \n",
    "success_rate = []\n",
    "for i in range(ep_id, min(ep_id + params.number_of_rollouts, len(buffer))):\n",
    "    episode_length = buffer[i][\"observations\"].shape[0]\n",
    "    for t in range(episode_length):\n",
    "        if env.name == \"PlaygroundwGoals\":\n",
    "            env.set_state_from_observation(buffer[i][\"observations\"][t, :])\n",
    "        else:\n",
    "            # Robotics environments require setting the whole env state for replay!\n",
    "            env.set_GT_state(buffer[i][\"env_states\"][t, :])\n",
    "        env.render()    \n",
    "env.close()"
   ]
  },
  {
   "cell_type": "code",
   "execution_count": 108,
   "id": "f6490016",
   "metadata": {},
   "outputs": [
    {
     "name": "stdout",
     "output_type": "stream",
     "text": [
      "Success rate over 100 rollouts is 0.92\n"
     ]
    }
   ],
   "source": [
    "if mode != \"free_play\":\n",
    "    success_rate = []\n",
    "    for i in range(len(buffer)):\n",
    "        rollout_success = env.eval_success(buffer[i][\"next_observations\"])\n",
    "        stable_T = 5\n",
    "        if env.name == \"FetchPickAndPlaceConstruction\" and \"tower\" in env.case:\n",
    "            # Stack is only successful if we have a full tower! \n",
    "            # Check if the tower is stable for at least 5 timesteps\n",
    "            dy = np.diff(rollout_success)\n",
    "            success = np.logical_and(rollout_success[1:]==env.num_blocks, dy==0)\n",
    "            success_rate.append(np.sum(success)>stable_T)\n",
    "        elif env.name == \"FetchPickAndPlaceConstruction\" and env.case == 'PickAndPlace':\n",
    "            # We determine success as highest number of solved elements with at least 5 timesteps of success\n",
    "            u, c = np.unique(rollout_success, return_counts = True)\n",
    "            # u: unique values, c: counts\n",
    "            count_of_highest_success = c[np.argmax(u)]    \n",
    "            success_rate.append(u[c>stable_T][-1]/env.nObj)\n",
    "        else:\n",
    "            # For flip, throw and Playground env push tasks: just get success at the end of rollout\n",
    "            success_rate.append(rollout_success[-1]/env.nObj)\n",
    "    print(\"Success rate over {} rollouts is {}\".format(len(buffer), np.asarray(success_rate).mean()))"
   ]
  }
 ],
 "metadata": {
  "kernelspec": {
   "display_name": "Python 3 (ipykernel)",
   "language": "python",
   "name": "python3"
  },
  "language_info": {
   "codemirror_mode": {
    "name": "ipython",
    "version": 3
   },
   "file_extension": ".py",
   "mimetype": "text/x-python",
   "name": "python",
   "nbconvert_exporter": "python",
   "pygments_lexer": "ipython3",
   "version": "3.8.10"
  }
 },
 "nbformat": 4,
 "nbformat_minor": 5
}
